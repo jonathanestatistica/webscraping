{
 "cells": [
  {
   "cell_type": "markdown",
   "id": "a9fd723e",
   "metadata": {},
   "source": [
    "# 🤖 ISP Bot – Atualização diária (CSV)\n",
    "Executa o bot que busca os links de CSV do site do ISP, baixa apenas novos arquivos e normaliza para UTF-8."
   ]
  },
  {
   "cell_type": "code",
   "execution_count": 1,
   "id": "a9a0dee5",
   "metadata": {},
   "outputs": [
    {
     "data": {
      "text/plain": [
       "{'found_links': 17,\n",
       " 'downloaded': ['20250827T194000Z__3042903bfd__BaseDPEvolucaoMensalCisp.csv',\n",
       "  '20250827T194000Z__07ef24c074__DOMensalEstadoDesde1991.csv',\n",
       "  '20250827T194000Z__51c245a5a1__BaseEstadoTaxaMes.csv',\n",
       "  '20250827T194000Z__e1f0b24105__BaseEstadoTaxaAno.csv',\n",
       "  '20250827T194002Z__ab3211f1db__BaseMunicipioMensal.csv',\n",
       "  '20250827T194004Z__4aa75a0378__BaseMunicipioTaxaMes.csv',\n",
       "  '20250827T194004Z__ca1be4d4e6__BaseMunicipioTaxaAno.csv',\n",
       "  '20250827T194005Z__ccf27671fa__UppEvolucaoMensalDeTitulos.csv',\n",
       "  '20250827T194006Z__8ab28d5c07__ArmasApreendidasEvolucaoCisp.csv',\n",
       "  '20250827T194007Z__1e3c7b3982__ArmasDP2003_2006.csv',\n",
       "  '20250827T194007Z__0d67b8a57b__ArmasEstado2000_2006.csv',\n",
       "  '20250827T194007Z__63b6cde8e9__PoliciaisMortos.csv',\n",
       "  '20250827T194008Z__ff02d7ff0e__BaseFeminicidioEvolucaoMensalCisp.csv',\n",
       "  '20250827T194008Z__933b18a2d0__SeriesHistoricas.csv',\n",
       "  '20250827T194008Z__e3a889f990__base_elucidacao.csv',\n",
       "  '20250827T194009Z__1c34b6bd35__base_bicicleta.csv',\n",
       "  '20250827T194010Z__44eeaac945__Base_DP_senasp.csv'],\n",
       " 'processed': ['20250827T194000Z__3042903bfd__BaseDPEvolucaoMensalCisp__normalized.csv',\n",
       "  '20250827T194000Z__07ef24c074__DOMensalEstadoDesde1991__normalized.csv',\n",
       "  '20250827T194000Z__51c245a5a1__BaseEstadoTaxaMes__normalized.csv',\n",
       "  '20250827T194000Z__e1f0b24105__BaseEstadoTaxaAno__normalized.csv',\n",
       "  '20250827T194002Z__ab3211f1db__BaseMunicipioMensal__normalized.csv',\n",
       "  '20250827T194004Z__4aa75a0378__BaseMunicipioTaxaMes__normalized.csv',\n",
       "  '20250827T194004Z__ca1be4d4e6__BaseMunicipioTaxaAno__normalized.csv',\n",
       "  '20250827T194005Z__ccf27671fa__UppEvolucaoMensalDeTitulos__normalized.csv',\n",
       "  '20250827T194006Z__8ab28d5c07__ArmasApreendidasEvolucaoCisp__normalized.csv',\n",
       "  '20250827T194007Z__1e3c7b3982__ArmasDP2003_2006__normalized.csv',\n",
       "  '20250827T194007Z__0d67b8a57b__ArmasEstado2000_2006__normalized.csv',\n",
       "  '20250827T194007Z__63b6cde8e9__PoliciaisMortos__normalized.csv',\n",
       "  '20250827T194008Z__ff02d7ff0e__BaseFeminicidioEvolucaoMensalCisp__normalized.csv',\n",
       "  '20250827T194008Z__933b18a2d0__SeriesHistoricas__normalized.csv',\n",
       "  '20250827T194008Z__e3a889f990__base_elucidacao__normalized.csv',\n",
       "  '20250827T194009Z__1c34b6bd35__base_bicicleta__normalized.csv',\n",
       "  '20250827T194010Z__44eeaac945__Base_DP_senasp__normalized.csv'],\n",
       " 'master_rows': 193842}"
      ]
     },
     "execution_count": 1,
     "metadata": {},
     "output_type": "execute_result"
    }
   ],
   "source": [
    "from pathlib import Path\n",
    "import sys\n",
    "project_root = Path.cwd()\n",
    "if project_root.name == 'notebooks':\n",
    "    project_root = project_root.parent\n",
    "scripts_path = project_root / 'scripts'\n",
    "if str(scripts_path) not in sys.path:\n",
    "    sys.path.insert(0, str(scripts_path))\n",
    "from isp_bot import update_all\n",
    "summary = update_all(base_dir=str(project_root))\n",
    "summary"
   ]
  }
 ],
 "metadata": {
  "kernelspec": {
   "display_name": "Python 3 (ipykernel)",
   "language": "python",
   "name": "python3"
  },
  "language_info": {
   "codemirror_mode": {
    "name": "ipython",
    "version": 3
   },
   "file_extension": ".py",
   "mimetype": "text/x-python",
   "name": "python",
   "nbconvert_exporter": "python",
   "pygments_lexer": "ipython3",
   "version": "3.12.7"
  }
 },
 "nbformat": 4,
 "nbformat_minor": 5
}
